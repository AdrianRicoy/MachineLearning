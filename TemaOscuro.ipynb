{
 "cells": [
  {
   "cell_type": "code",
   "execution_count": 1,
   "metadata": {},
   "outputs": [
    {
     "name": "stdout",
     "output_type": "stream",
     "text": [
      "Collecting jupyterthemes\n",
      "\u001b[?25l  Downloading https://files.pythonhosted.org/packages/8a/08/9dee6dfd7f2aad6c30282d55c8f495b4dc1e4747b4e2bdbeb80572ddf312/jupyterthemes-0.20.0-py2.py3-none-any.whl (7.0MB)\n",
      "\u001b[K     |████████████████████████████████| 7.0MB 34kB/s eta 0:00:012\n",
      "\u001b[?25hRequirement already satisfied: notebook>=5.6.0 in /home/NeoTRAN/.conda/envs/data/lib/python3.6/site-packages (from jupyterthemes) (5.7.8)\n",
      "Collecting lesscpy>=0.11.2 (from jupyterthemes)\n",
      "\u001b[?25l  Downloading https://files.pythonhosted.org/packages/10/d0/fdd9874972e07ae8727a3d26b433891d8605b96999ea99bbf506e756a7b1/lesscpy-0.13.0-py2.py3-none-any.whl (48kB)\n",
      "\u001b[K     |████████████████████████████████| 51kB 252kB/s eta 0:00:01\n",
      "\u001b[?25hRequirement already satisfied: ipython>=5.4.1 in /home/NeoTRAN/.conda/envs/data/lib/python3.6/site-packages (from jupyterthemes) (6.5.0)\n",
      "Requirement already satisfied: matplotlib>=1.4.3 in /home/NeoTRAN/.conda/envs/data/lib/python3.6/site-packages (from jupyterthemes) (2.2.3)\n",
      "Requirement already satisfied: jupyter-core in /home/NeoTRAN/.conda/envs/data/lib/python3.6/site-packages (from jupyterthemes) (4.4.0)\n",
      "Requirement already satisfied: pyzmq>=17 in /home/NeoTRAN/.conda/envs/data/lib/python3.6/site-packages (from notebook>=5.6.0->jupyterthemes) (18.0.0)\n",
      "Requirement already satisfied: nbformat in /home/NeoTRAN/.conda/envs/data/lib/python3.6/site-packages (from notebook>=5.6.0->jupyterthemes) (4.4.0)\n",
      "Requirement already satisfied: nbconvert in /home/NeoTRAN/.conda/envs/data/lib/python3.6/site-packages (from notebook>=5.6.0->jupyterthemes) (5.5.0)\n",
      "Requirement already satisfied: ipython-genutils in /home/NeoTRAN/.conda/envs/data/lib/python3.6/site-packages (from notebook>=5.6.0->jupyterthemes) (0.2.0)\n",
      "Requirement already satisfied: jinja2 in /home/NeoTRAN/.conda/envs/data/lib/python3.6/site-packages (from notebook>=5.6.0->jupyterthemes) (2.10.1)\n",
      "Requirement already satisfied: Send2Trash in /home/NeoTRAN/.conda/envs/data/lib/python3.6/site-packages (from notebook>=5.6.0->jupyterthemes) (1.5.0)\n",
      "Requirement already satisfied: prometheus-client in /home/NeoTRAN/.conda/envs/data/lib/python3.6/site-packages (from notebook>=5.6.0->jupyterthemes) (0.6.0)\n",
      "Requirement already satisfied: tornado<7,>=4.1 in /home/NeoTRAN/.conda/envs/data/lib/python3.6/site-packages (from notebook>=5.6.0->jupyterthemes) (6.0.2)\n",
      "Requirement already satisfied: ipykernel in /home/NeoTRAN/.conda/envs/data/lib/python3.6/site-packages (from notebook>=5.6.0->jupyterthemes) (5.1.0)\n",
      "Requirement already satisfied: terminado>=0.8.1 in /home/NeoTRAN/.conda/envs/data/lib/python3.6/site-packages (from notebook>=5.6.0->jupyterthemes) (0.8.2)\n",
      "Requirement already satisfied: jupyter-client>=5.2.0 in /home/NeoTRAN/.conda/envs/data/lib/python3.6/site-packages (from notebook>=5.6.0->jupyterthemes) (5.2.4)\n",
      "Requirement already satisfied: traitlets>=4.2.1 in /home/NeoTRAN/.conda/envs/data/lib/python3.6/site-packages (from notebook>=5.6.0->jupyterthemes) (4.3.2)\n",
      "Requirement already satisfied: six in /home/NeoTRAN/.conda/envs/data/lib/python3.6/site-packages (from lesscpy>=0.11.2->jupyterthemes) (1.11.0)\n",
      "Collecting ply (from lesscpy>=0.11.2->jupyterthemes)\n",
      "\u001b[?25l  Downloading https://files.pythonhosted.org/packages/a3/58/35da89ee790598a0700ea49b2a66594140f44dec458c07e8e3d4979137fc/ply-3.11-py2.py3-none-any.whl (49kB)\n",
      "\u001b[K     |████████████████████████████████| 51kB 233kB/s eta 0:00:01\n",
      "\u001b[?25hRequirement already satisfied: jedi>=0.10 in /home/NeoTRAN/.conda/envs/data/lib/python3.6/site-packages (from ipython>=5.4.1->jupyterthemes) (0.12.1)\n",
      "Requirement already satisfied: decorator in /home/NeoTRAN/.conda/envs/data/lib/python3.6/site-packages (from ipython>=5.4.1->jupyterthemes) (4.3.0)\n",
      "Requirement already satisfied: simplegeneric>0.8 in /home/NeoTRAN/.conda/envs/data/lib/python3.6/site-packages (from ipython>=5.4.1->jupyterthemes) (0.8.1)\n",
      "Requirement already satisfied: pygments in /home/NeoTRAN/.conda/envs/data/lib/python3.6/site-packages (from ipython>=5.4.1->jupyterthemes) (2.2.0)\n",
      "Requirement already satisfied: pickleshare in /home/NeoTRAN/.conda/envs/data/lib/python3.6/site-packages (from ipython>=5.4.1->jupyterthemes) (0.7.4)\n",
      "Requirement already satisfied: setuptools>=18.5 in /home/NeoTRAN/.conda/envs/data/lib/python3.6/site-packages (from ipython>=5.4.1->jupyterthemes) (41.0.1)\n",
      "Requirement already satisfied: pexpect; sys_platform != \"win32\" in /home/NeoTRAN/.conda/envs/data/lib/python3.6/site-packages (from ipython>=5.4.1->jupyterthemes) (4.6.0)\n",
      "Requirement already satisfied: backcall in /home/NeoTRAN/.conda/envs/data/lib/python3.6/site-packages (from ipython>=5.4.1->jupyterthemes) (0.1.0)\n",
      "Requirement already satisfied: prompt-toolkit<2.0.0,>=1.0.15 in /home/NeoTRAN/.conda/envs/data/lib/python3.6/site-packages (from ipython>=5.4.1->jupyterthemes) (1.0.15)\n",
      "Requirement already satisfied: kiwisolver>=1.0.1 in /home/NeoTRAN/.conda/envs/data/lib/python3.6/site-packages (from matplotlib>=1.4.3->jupyterthemes) (1.0.1)\n",
      "Requirement already satisfied: pytz in /home/NeoTRAN/.conda/envs/data/lib/python3.6/site-packages (from matplotlib>=1.4.3->jupyterthemes) (2018.5)\n",
      "Requirement already satisfied: pyparsing!=2.0.4,!=2.1.2,!=2.1.6,>=2.0.1 in /home/NeoTRAN/.conda/envs/data/lib/python3.6/site-packages (from matplotlib>=1.4.3->jupyterthemes) (2.2.0)\n",
      "Requirement already satisfied: numpy>=1.7.1 in /home/NeoTRAN/.conda/envs/data/lib/python3.6/site-packages (from matplotlib>=1.4.3->jupyterthemes) (1.14.5)\n",
      "Requirement already satisfied: python-dateutil>=2.1 in /home/NeoTRAN/.conda/envs/data/lib/python3.6/site-packages (from matplotlib>=1.4.3->jupyterthemes) (2.7.3)\n",
      "Requirement already satisfied: cycler>=0.10 in /home/NeoTRAN/.conda/envs/data/lib/python3.6/site-packages (from matplotlib>=1.4.3->jupyterthemes) (0.10.0)\n",
      "Requirement already satisfied: jsonschema!=2.5.0,>=2.4 in /home/NeoTRAN/.conda/envs/data/lib/python3.6/site-packages (from nbformat->notebook>=5.6.0->jupyterthemes) (3.0.1)\n",
      "Requirement already satisfied: testpath in /home/NeoTRAN/.conda/envs/data/lib/python3.6/site-packages (from nbconvert->notebook>=5.6.0->jupyterthemes) (0.4.2)\n",
      "Requirement already satisfied: pandocfilters>=1.4.1 in /home/NeoTRAN/.conda/envs/data/lib/python3.6/site-packages (from nbconvert->notebook>=5.6.0->jupyterthemes) (1.4.2)\n",
      "Requirement already satisfied: mistune>=0.8.1 in /home/NeoTRAN/.conda/envs/data/lib/python3.6/site-packages (from nbconvert->notebook>=5.6.0->jupyterthemes) (0.8.4)\n",
      "Requirement already satisfied: defusedxml in /home/NeoTRAN/.conda/envs/data/lib/python3.6/site-packages (from nbconvert->notebook>=5.6.0->jupyterthemes) (0.6.0)\n",
      "Requirement already satisfied: bleach in /home/NeoTRAN/.conda/envs/data/lib/python3.6/site-packages (from nbconvert->notebook>=5.6.0->jupyterthemes) (3.1.0)\n",
      "Requirement already satisfied: entrypoints>=0.2.2 in /home/NeoTRAN/.conda/envs/data/lib/python3.6/site-packages (from nbconvert->notebook>=5.6.0->jupyterthemes) (0.3)\n",
      "Requirement already satisfied: MarkupSafe>=0.23 in /home/NeoTRAN/.conda/envs/data/lib/python3.6/site-packages (from jinja2->notebook>=5.6.0->jupyterthemes) (1.1.1)\n",
      "Requirement already satisfied: parso>=0.3.0 in /home/NeoTRAN/.conda/envs/data/lib/python3.6/site-packages (from jedi>=0.10->ipython>=5.4.1->jupyterthemes) (0.3.1)\n",
      "Requirement already satisfied: ptyprocess>=0.5 in /home/NeoTRAN/.conda/envs/data/lib/python3.6/site-packages (from pexpect; sys_platform != \"win32\"->ipython>=5.4.1->jupyterthemes) (0.6.0)\n",
      "Requirement already satisfied: wcwidth in /home/NeoTRAN/.conda/envs/data/lib/python3.6/site-packages (from prompt-toolkit<2.0.0,>=1.0.15->ipython>=5.4.1->jupyterthemes) (0.1.7)\n",
      "Requirement already satisfied: attrs>=17.4.0 in /home/NeoTRAN/.conda/envs/data/lib/python3.6/site-packages (from jsonschema!=2.5.0,>=2.4->nbformat->notebook>=5.6.0->jupyterthemes) (19.1.0)\n",
      "Requirement already satisfied: pyrsistent>=0.14.0 in /home/NeoTRAN/.conda/envs/data/lib/python3.6/site-packages (from jsonschema!=2.5.0,>=2.4->nbformat->notebook>=5.6.0->jupyterthemes) (0.14.11)\n",
      "Requirement already satisfied: webencodings in /home/NeoTRAN/.conda/envs/data/lib/python3.6/site-packages (from bleach->nbconvert->notebook>=5.6.0->jupyterthemes) (0.5.1)\n",
      "Installing collected packages: ply, lesscpy, jupyterthemes\n"
     ]
    },
    {
     "name": "stdout",
     "output_type": "stream",
     "text": [
      "Successfully installed jupyterthemes-0.20.0 lesscpy-0.13.0 ply-3.11\r\n"
     ]
    }
   ],
   "source": [
    "# Install library\n",
    "!pip install jupyterthemes"
   ]
  },
  {
   "cell_type": "code",
   "execution_count": 3,
   "metadata": {},
   "outputs": [
    {
     "name": "stdout",
     "output_type": "stream",
     "text": [
      "Requirement already up-to-date: jupyterthemes in /home/NeoTRAN/.conda/envs/data/lib/python3.6/site-packages (0.20.0)\n",
      "Requirement already satisfied, skipping upgrade: ipython>=5.4.1 in /home/NeoTRAN/.conda/envs/data/lib/python3.6/site-packages (from jupyterthemes) (6.5.0)\n",
      "Requirement already satisfied, skipping upgrade: lesscpy>=0.11.2 in /home/NeoTRAN/.conda/envs/data/lib/python3.6/site-packages (from jupyterthemes) (0.13.0)\n",
      "Requirement already satisfied, skipping upgrade: matplotlib>=1.4.3 in /home/NeoTRAN/.conda/envs/data/lib/python3.6/site-packages (from jupyterthemes) (2.2.3)\n",
      "Requirement already satisfied, skipping upgrade: jupyter-core in /home/NeoTRAN/.conda/envs/data/lib/python3.6/site-packages (from jupyterthemes) (4.4.0)\n",
      "Requirement already satisfied, skipping upgrade: notebook>=5.6.0 in /home/NeoTRAN/.conda/envs/data/lib/python3.6/site-packages (from jupyterthemes) (5.7.8)\n",
      "Requirement already satisfied, skipping upgrade: pexpect; sys_platform != \"win32\" in /home/NeoTRAN/.conda/envs/data/lib/python3.6/site-packages (from ipython>=5.4.1->jupyterthemes) (4.6.0)\n",
      "Requirement already satisfied, skipping upgrade: pygments in /home/NeoTRAN/.conda/envs/data/lib/python3.6/site-packages (from ipython>=5.4.1->jupyterthemes) (2.2.0)\n",
      "Requirement already satisfied, skipping upgrade: traitlets>=4.2 in /home/NeoTRAN/.conda/envs/data/lib/python3.6/site-packages (from ipython>=5.4.1->jupyterthemes) (4.3.2)\n",
      "Requirement already satisfied, skipping upgrade: jedi>=0.10 in /home/NeoTRAN/.conda/envs/data/lib/python3.6/site-packages (from ipython>=5.4.1->jupyterthemes) (0.12.1)\n",
      "Requirement already satisfied, skipping upgrade: pickleshare in /home/NeoTRAN/.conda/envs/data/lib/python3.6/site-packages (from ipython>=5.4.1->jupyterthemes) (0.7.4)\n",
      "Requirement already satisfied, skipping upgrade: decorator in /home/NeoTRAN/.conda/envs/data/lib/python3.6/site-packages (from ipython>=5.4.1->jupyterthemes) (4.3.0)\n",
      "Requirement already satisfied, skipping upgrade: prompt-toolkit<2.0.0,>=1.0.15 in /home/NeoTRAN/.conda/envs/data/lib/python3.6/site-packages (from ipython>=5.4.1->jupyterthemes) (1.0.15)\n",
      "Requirement already satisfied, skipping upgrade: setuptools>=18.5 in /home/NeoTRAN/.conda/envs/data/lib/python3.6/site-packages (from ipython>=5.4.1->jupyterthemes) (41.0.1)\n",
      "Requirement already satisfied, skipping upgrade: simplegeneric>0.8 in /home/NeoTRAN/.conda/envs/data/lib/python3.6/site-packages (from ipython>=5.4.1->jupyterthemes) (0.8.1)\n",
      "Requirement already satisfied, skipping upgrade: backcall in /home/NeoTRAN/.conda/envs/data/lib/python3.6/site-packages (from ipython>=5.4.1->jupyterthemes) (0.1.0)\n",
      "Requirement already satisfied, skipping upgrade: ply in /home/NeoTRAN/.conda/envs/data/lib/python3.6/site-packages (from lesscpy>=0.11.2->jupyterthemes) (3.11)\n",
      "Requirement already satisfied, skipping upgrade: six in /home/NeoTRAN/.conda/envs/data/lib/python3.6/site-packages (from lesscpy>=0.11.2->jupyterthemes) (1.11.0)\n",
      "Requirement already satisfied, skipping upgrade: pyparsing!=2.0.4,!=2.1.2,!=2.1.6,>=2.0.1 in /home/NeoTRAN/.conda/envs/data/lib/python3.6/site-packages (from matplotlib>=1.4.3->jupyterthemes) (2.2.0)\n",
      "Requirement already satisfied, skipping upgrade: cycler>=0.10 in /home/NeoTRAN/.conda/envs/data/lib/python3.6/site-packages (from matplotlib>=1.4.3->jupyterthemes) (0.10.0)\n",
      "Requirement already satisfied, skipping upgrade: numpy>=1.7.1 in /home/NeoTRAN/.conda/envs/data/lib/python3.6/site-packages (from matplotlib>=1.4.3->jupyterthemes) (1.14.5)\n",
      "Requirement already satisfied, skipping upgrade: pytz in /home/NeoTRAN/.conda/envs/data/lib/python3.6/site-packages (from matplotlib>=1.4.3->jupyterthemes) (2018.5)\n",
      "Requirement already satisfied, skipping upgrade: python-dateutil>=2.1 in /home/NeoTRAN/.conda/envs/data/lib/python3.6/site-packages (from matplotlib>=1.4.3->jupyterthemes) (2.7.3)\n",
      "Requirement already satisfied, skipping upgrade: kiwisolver>=1.0.1 in /home/NeoTRAN/.conda/envs/data/lib/python3.6/site-packages (from matplotlib>=1.4.3->jupyterthemes) (1.0.1)\n",
      "Requirement already satisfied, skipping upgrade: jinja2 in /home/NeoTRAN/.conda/envs/data/lib/python3.6/site-packages (from notebook>=5.6.0->jupyterthemes) (2.10.1)\n",
      "Requirement already satisfied, skipping upgrade: nbconvert in /home/NeoTRAN/.conda/envs/data/lib/python3.6/site-packages (from notebook>=5.6.0->jupyterthemes) (5.5.0)\n",
      "Requirement already satisfied, skipping upgrade: prometheus-client in /home/NeoTRAN/.conda/envs/data/lib/python3.6/site-packages (from notebook>=5.6.0->jupyterthemes) (0.6.0)\n",
      "Requirement already satisfied, skipping upgrade: pyzmq>=17 in /home/NeoTRAN/.conda/envs/data/lib/python3.6/site-packages (from notebook>=5.6.0->jupyterthemes) (18.0.0)\n",
      "Requirement already satisfied, skipping upgrade: ipython-genutils in /home/NeoTRAN/.conda/envs/data/lib/python3.6/site-packages (from notebook>=5.6.0->jupyterthemes) (0.2.0)\n",
      "Requirement already satisfied, skipping upgrade: terminado>=0.8.1 in /home/NeoTRAN/.conda/envs/data/lib/python3.6/site-packages (from notebook>=5.6.0->jupyterthemes) (0.8.2)\n",
      "Requirement already satisfied, skipping upgrade: tornado<7,>=4.1 in /home/NeoTRAN/.conda/envs/data/lib/python3.6/site-packages (from notebook>=5.6.0->jupyterthemes) (6.0.2)\n",
      "Requirement already satisfied, skipping upgrade: Send2Trash in /home/NeoTRAN/.conda/envs/data/lib/python3.6/site-packages (from notebook>=5.6.0->jupyterthemes) (1.5.0)\n",
      "Requirement already satisfied, skipping upgrade: nbformat in /home/NeoTRAN/.conda/envs/data/lib/python3.6/site-packages (from notebook>=5.6.0->jupyterthemes) (4.4.0)\n",
      "Requirement already satisfied, skipping upgrade: jupyter-client>=5.2.0 in /home/NeoTRAN/.conda/envs/data/lib/python3.6/site-packages (from notebook>=5.6.0->jupyterthemes) (5.2.4)\n",
      "Requirement already satisfied, skipping upgrade: ipykernel in /home/NeoTRAN/.conda/envs/data/lib/python3.6/site-packages (from notebook>=5.6.0->jupyterthemes) (5.1.0)\n",
      "Requirement already satisfied, skipping upgrade: ptyprocess>=0.5 in /home/NeoTRAN/.conda/envs/data/lib/python3.6/site-packages (from pexpect; sys_platform != \"win32\"->ipython>=5.4.1->jupyterthemes) (0.6.0)\n",
      "Requirement already satisfied, skipping upgrade: parso>=0.3.0 in /home/NeoTRAN/.conda/envs/data/lib/python3.6/site-packages (from jedi>=0.10->ipython>=5.4.1->jupyterthemes) (0.3.1)\n",
      "Requirement already satisfied, skipping upgrade: wcwidth in /home/NeoTRAN/.conda/envs/data/lib/python3.6/site-packages (from prompt-toolkit<2.0.0,>=1.0.15->ipython>=5.4.1->jupyterthemes) (0.1.7)\n",
      "Requirement already satisfied, skipping upgrade: MarkupSafe>=0.23 in /home/NeoTRAN/.conda/envs/data/lib/python3.6/site-packages (from jinja2->notebook>=5.6.0->jupyterthemes) (1.1.1)\n",
      "Requirement already satisfied, skipping upgrade: mistune>=0.8.1 in /home/NeoTRAN/.conda/envs/data/lib/python3.6/site-packages (from nbconvert->notebook>=5.6.0->jupyterthemes) (0.8.4)\n",
      "Requirement already satisfied, skipping upgrade: bleach in /home/NeoTRAN/.conda/envs/data/lib/python3.6/site-packages (from nbconvert->notebook>=5.6.0->jupyterthemes) (3.1.0)\n",
      "Requirement already satisfied, skipping upgrade: testpath in /home/NeoTRAN/.conda/envs/data/lib/python3.6/site-packages (from nbconvert->notebook>=5.6.0->jupyterthemes) (0.4.2)\n",
      "Requirement already satisfied, skipping upgrade: defusedxml in /home/NeoTRAN/.conda/envs/data/lib/python3.6/site-packages (from nbconvert->notebook>=5.6.0->jupyterthemes) (0.6.0)\n",
      "Requirement already satisfied, skipping upgrade: pandocfilters>=1.4.1 in /home/NeoTRAN/.conda/envs/data/lib/python3.6/site-packages (from nbconvert->notebook>=5.6.0->jupyterthemes) (1.4.2)\n",
      "Requirement already satisfied, skipping upgrade: entrypoints>=0.2.2 in /home/NeoTRAN/.conda/envs/data/lib/python3.6/site-packages (from nbconvert->notebook>=5.6.0->jupyterthemes) (0.3)\n",
      "Requirement already satisfied, skipping upgrade: jsonschema!=2.5.0,>=2.4 in /home/NeoTRAN/.conda/envs/data/lib/python3.6/site-packages (from nbformat->notebook>=5.6.0->jupyterthemes) (3.0.1)\n",
      "Requirement already satisfied, skipping upgrade: webencodings in /home/NeoTRAN/.conda/envs/data/lib/python3.6/site-packages (from bleach->nbconvert->notebook>=5.6.0->jupyterthemes) (0.5.1)\n",
      "Requirement already satisfied, skipping upgrade: attrs>=17.4.0 in /home/NeoTRAN/.conda/envs/data/lib/python3.6/site-packages (from jsonschema!=2.5.0,>=2.4->nbformat->notebook>=5.6.0->jupyterthemes) (19.1.0)\n"
     ]
    },
    {
     "name": "stdout",
     "output_type": "stream",
     "text": [
      "Requirement already satisfied, skipping upgrade: pyrsistent>=0.14.0 in /home/NeoTRAN/.conda/envs/data/lib/python3.6/site-packages (from jsonschema!=2.5.0,>=2.4->nbformat->notebook>=5.6.0->jupyterthemes) (0.14.11)\r\n"
     ]
    }
   ],
   "source": [
    "!pip install --upgrade jupyterthemes"
   ]
  },
  {
   "cell_type": "code",
   "execution_count": 4,
   "metadata": {},
   "outputs": [],
   "source": [
    "!jt -t monokai -N -T -kl"
   ]
  },
  {
   "cell_type": "code",
   "execution_count": null,
   "metadata": {},
   "outputs": [],
   "source": []
  }
 ],
 "metadata": {
  "kernelspec": {
   "display_name": "Python 3",
   "language": "python",
   "name": "python3"
  },
  "language_info": {
   "codemirror_mode": {
    "name": "ipython",
    "version": 3
   },
   "file_extension": ".py",
   "mimetype": "text/x-python",
   "name": "python",
   "nbconvert_exporter": "python",
   "pygments_lexer": "ipython3",
   "version": "3.6.8"
  }
 },
 "nbformat": 4,
 "nbformat_minor": 2
}
